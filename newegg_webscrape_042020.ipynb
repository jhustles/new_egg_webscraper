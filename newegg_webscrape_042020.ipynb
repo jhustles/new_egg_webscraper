{
 "cells": [
  {
   "cell_type": "markdown",
   "metadata": {},
   "source": [
    "# WebScraping NewEgg.com"
   ]
  },
  {
   "cell_type": "code",
   "execution_count": 1,
   "metadata": {},
   "outputs": [],
   "source": [
    "# Import dependencies\n",
    "from bs4 import BeautifulSoup as soup\n",
    "import requests\n",
    "import pymongo\n",
    "import numpy as np\n",
    "import pandas as pd"
   ]
  },
  {
   "cell_type": "code",
   "execution_count": null,
   "metadata": {},
   "outputs": [],
   "source": [
    "# Initialize PyMongo to work with MongoDBs\n",
    "# conn = 'mongodb://localhost:27017'\n",
    "# client = pymongo.MongoClient(conn)"
   ]
  },
  {
   "cell_type": "code",
   "execution_count": null,
   "metadata": {},
   "outputs": [],
   "source": [
    "# Define database\n",
    "# db = client.newegg_laptops_db\n",
    "# # Define collection\n",
    "# collection = db.apple"
   ]
  },
  {
   "cell_type": "code",
   "execution_count": 2,
   "metadata": {},
   "outputs": [],
   "source": [
    "# URL of page to be scraped\n",
    "#apple_url = 'https://www.newegg.com/p/pl?N=100006740+50001759&Order=RELEASE'\n",
    "laptops_home_url = 'https://www.newegg.com/p/pl?N=100006740&page=1&order=RELEASE'\n",
    "# Retrieve page with the requests module\n",
    "response = requests.get(laptops_home_url)\n",
    "response\n",
    "\n",
    "# Create BeautifulSoup object; parse with 'lxml'\n",
    "#page_soup = soup(response.text, 'lxml')\n",
    "page_soup = soup(response.text, 'lxml')\n"
   ]
  },
  {
   "cell_type": "code",
   "execution_count": 3,
   "metadata": {},
   "outputs": [],
   "source": [
    "# grabs each individual apple product on the page (had to use 'inspect' from chrome broswer)\n",
    "#title = page_soup.title\n",
    "\n",
    "# This one is suppose to be better for looping thru because targeting the exact containers\n",
    "containers = page_soup.find_all(\"div\", class_=\"item-container\") \n",
    "\n",
    "#this just targets the entire HTML\n",
    "#class_item_titles = page_soup.find_all(\"a\", class_=\"item-title\")"
   ]
  },
  {
   "cell_type": "code",
   "execution_count": 7,
   "metadata": {},
   "outputs": [
    {
     "name": "stdout",
     "output_type": "stream",
     "text": [
      "36\n"
     ]
    }
   ],
   "source": [
    "# pull title from the head\n",
    "#print(title)\n",
    "\n",
    "# Check how many objects it found (the total number of containers)\n",
    "print(len(containers))\n",
    "\n",
    "# for x in containers:\n",
    "#     print(x)"
   ]
  },
  {
   "cell_type": "code",
   "execution_count": null,
   "metadata": {},
   "outputs": [],
   "source": [
    "#print(class_item_titles[0].text)"
   ]
  },
  {
   "cell_type": "code",
   "execution_count": null,
   "metadata": {},
   "outputs": [],
   "source": [
    "# Here you learned how to target one specific thing and grab it\n",
    "# item_names = []\n",
    "\n",
    "# counter = 0\n",
    "# for item in class_item_titles:\n",
    "#     counter += 1\n",
    "#     item_names.append(item)\n",
    "#     #print(f\"{counter}) | {item.text}\")\n"
   ]
  },
  {
   "cell_type": "code",
   "execution_count": 8,
   "metadata": {},
   "outputs": [
    {
     "data": {
      "text/plain": [
       "<div class=\"item-container \">\n",
       "<!--product image-->\n",
       "<a class=\"item-img\" href=\"https://www.newegg.com/p/N82E16834233309\">\n",
       "<div class=\"item-badges\">\n",
       "</div>\n",
       "<img alt='GIGABYTE AERO 15 OLED XB-8US51B0SP, 15.6\" 4K/UHD Gaming Laptop, Intel Core i7-10875H, RTX 2070 Super Max-Q, 16 GB Memory, 512 GB SSD' src=\"//c1.neweggimages.com/NeweggImage/ProductImageCompressAll300/34-233-309-V21.jpg\" title='GIGABYTE AERO 15 OLED XB-8US51B0SP, 15.6\" 4K/UHD Gaming Laptop, Intel Core i7-10875H, RTX 2070 Super Max-Q, 16 GB Memory, 512 GB SSD'/>\n",
       "</a>\n",
       "<div class=\"item-info\">\n",
       "<!--brand info-->\n",
       "<div class=\"item-branding\">\n",
       "<a class=\"item-brand\" href=\"https://www.newegg.com/GIGABYTE/BrandStore/ID-1314\">\n",
       "<img alt=\"GIGABYTE\" src=\"//c1.neweggimages.com/Brandimage_70x28//Brand1314.gif\" title=\"GIGABYTE\"/>\n",
       "</a>\n",
       "<!--rating info-->\n",
       "</div>\n",
       "<!--description info-->\n",
       "<a class=\"item-title\" href=\"https://www.newegg.com/p/N82E16834233309\" title=\"View Details\">GIGABYTE AERO 15 OLED XB-8US51B0SP, 15.6\" 4K/UHD Gaming Laptop, Intel Core i7-10875H, RTX 2070 Super Max-Q, 16 GB Memory, 512 GB SSD</a>\n",
       "<!--promption info-->\n",
       "<p class=\"item-promo\"><i class=\"item-promo-icon\"></i>Release Date: 04/15/2020</p>\n",
       "<!--feature-->\n",
       "<ul class=\"item-features\">\n",
       "<li><strong>Graphic Type:</strong> Dedicated Card</li><li><strong>Resolution:</strong> 3840 x 2160</li><li><strong>Weight:</strong> 4.40 lbs.</li><li><strong>Color:</strong> Black</li>\n",
       "<li><strong>Model #: </strong>AERO 15 OLED XB-8US51B0SP</li>\n",
       "<li><strong>Item #: </strong>N82E16834233309</li>\n",
       "<li><strong>Return Policy: </strong><a href=\"https://kb.newegg.com/Article/Index/12/3?id=1167#44\" target=\"_blank\" title=\"Standard Return Policy(New Window)\">Standard Return Policy</a></li>\n",
       "</ul>\n",
       "<div class=\"item-action\">\n",
       "<!--price-->\n",
       "<ul class=\"price \">\n",
       "<li class=\"price-was\">\n",
       "</li>\n",
       "<li class=\"price-map\">\n",
       "</li>\n",
       "<li class=\"price-current\">\n",
       "<span class=\"price-current-label\">\n",
       "</span>$<strong>2,699</strong><sup>.00</sup> \n",
       "            <span class=\"price-current-range\">\n",
       "<abbr title=\"to\">–</abbr>\n",
       "</span>\n",
       "</li>\n",
       "<li class=\"price-save \">\n",
       "<span class=\"price-save-endtime price-save-endtime-current\"></span>\n",
       "<span class=\"price-save-endtime price-save-endtime-another\" style=\"display:none;\"></span>\n",
       "</li>\n",
       "<li class=\"price-note\">\n",
       "</li>\n",
       "<li class=\"price-ship\">\n",
       "        Free Shipping\n",
       "    </li>\n",
       "</ul>\n",
       "<!--egg point-->\n",
       "<!--financing-->\n",
       "<!--button-->\n",
       "<div class=\"item-operate \">\n",
       "<div class=\"item-button-area\">\n",
       "<button class=\"btn btn-mini btn-primary\" onclick=\"Javascript:Biz.ProductList.Item.add('https://secure.newegg.com/Shopping/AddToCart.aspx?Submit=ADD&amp;PreItemList=N82E16834233309');\" title=\"Pre-Order\" type=\"button\">Pre-Order <i class=\"fa fa-caret-right\"></i>\n",
       "</button>\n",
       "</div>\n",
       "<!--compare-->\n",
       "<div class=\"item-compare-box\">\n",
       "<label class=\"form-checkbox\">\n",
       "<input autocomplete=\"off\" name=\"CompareItem\" neg-itemnumber=\"34-233-309\" type=\"checkbox\" value=\"CompareItem_34-233-309\"/>\n",
       "<span class=\"form-checkbox-title\">Compare</span>\n",
       "</label>\n",
       "</div>\n",
       "<script type=\"text/javascript\">\n",
       "                            \n",
       "                                Biz.Product.CompareConfig2019.compareItems.push(\"34-233-309\");\n",
       "                                var itemThumbs = new Object();\n",
       "                                itemThumbs.subCategoryId = 3365;\n",
       "                                itemThumbs.subCategoryDescription = \"Gaming Laptops\";\n",
       "                                itemThumbs.itemNumber = \"34-233-309\";\n",
       "                                itemThumbs.imageUrl = \"//c1.neweggimages.com/ProductImageCompressAll35/34-233-309-V21.jpg\";\n",
       "                                itemThumbs.description = \"GIGABYTE AERO 15 OLED XB-8US51B0SP, 15.6&#34; 4K&#47;UHD Gaming Laptop, Intel Core i7-10875H, RTX 2070 Super Max-Q, 16 GB Memory, 512 GB SSD\";\n",
       "                                itemThumbs.productUrl = \"/p/N82E16834233309?Item=N82E16834233309\";\n",
       "                                Biz.Product.CompareConfig2019.Thumbs.push(itemThumbs);\n",
       "                            \n",
       "                    </script>\n",
       "</div>\n",
       "<!--ExtendWarranty PopUp-->\n",
       "<input class=\"open-popup\" id=\"ew_N82E16834233309\" type=\"hidden\"/>\n",
       "<input class=\"open-popup\" id=\"ew_MainItemFailedAddToCart_N82E16834233309\" type=\"hidden\"/>\n",
       "</div>\n",
       "</div>\n",
       "<div class=\"item-stock\" id=\"stock_34-233-309\">\n",
       "</div>\n",
       "</div>"
      ]
     },
     "execution_count": 8,
     "metadata": {},
     "output_type": "execute_result"
    }
   ],
   "source": [
    "# This information on how the strucutre of HTML will help set up the loop\n",
    "contain = containers[0]\n",
    "contain\n"
   ]
  },
  {
   "cell_type": "code",
   "execution_count": 9,
   "metadata": {},
   "outputs": [
    {
     "data": {
      "text/plain": [
       "<a class=\"item-img\" href=\"https://www.newegg.com/p/N82E16834233309\">\n",
       "<div class=\"item-badges\">\n",
       "</div>\n",
       "<img alt='GIGABYTE AERO 15 OLED XB-8US51B0SP, 15.6\" 4K/UHD Gaming Laptop, Intel Core i7-10875H, RTX 2070 Super Max-Q, 16 GB Memory, 512 GB SSD' src=\"//c1.neweggimages.com/NeweggImage/ProductImageCompressAll300/34-233-309-V21.jpg\" title='GIGABYTE AERO 15 OLED XB-8US51B0SP, 15.6\" 4K/UHD Gaming Laptop, Intel Core i7-10875H, RTX 2070 Super Max-Q, 16 GB Memory, 512 GB SSD'/>\n",
       "</a>"
      ]
     },
     "execution_count": 9,
     "metadata": {},
     "output_type": "execute_result"
    }
   ],
   "source": [
    "contain.a"
   ]
  },
  {
   "cell_type": "code",
   "execution_count": null,
   "metadata": {},
   "outputs": [],
   "source": [
    "contain.a.div"
   ]
  },
  {
   "cell_type": "code",
   "execution_count": null,
   "metadata": {},
   "outputs": [],
   "source": [
    "contain.a.img"
   ]
  },
  {
   "cell_type": "code",
   "execution_count": null,
   "metadata": {},
   "outputs": [],
   "source": [
    "for item in contain.a.children:\n",
    "    print(item)"
   ]
  },
  {
   "cell_type": "markdown",
   "metadata": {},
   "source": [
    "## Good practice of using: '.contents' - turns tags and nested tags into a list"
   ]
  },
  {
   "cell_type": "code",
   "execution_count": null,
   "metadata": {},
   "outputs": [],
   "source": [
    "# Contents will turn it into a list, enabling you to target and iterate thru\n",
    "# use ctrl f to find ','\n",
    "contain.contents"
   ]
  },
  {
   "cell_type": "code",
   "execution_count": null,
   "metadata": {},
   "outputs": [],
   "source": [
    "# using .children turns it into an iterable list\n",
    "contain.contents[5].children"
   ]
  },
  {
   "cell_type": "code",
   "execution_count": null,
   "metadata": {},
   "outputs": [],
   "source": [
    "# for i in contain.contents[5].children:\n",
    "#     print(i)"
   ]
  },
  {
   "cell_type": "code",
   "execution_count": null,
   "metadata": {},
   "outputs": [],
   "source": [
    "# goal is target the \"title='Apple'\" within the img tag.\n",
    "#contain.contents[5].a.img\n",
    "contain.contents[5].a"
   ]
  },
  {
   "cell_type": "code",
   "execution_count": 10,
   "metadata": {},
   "outputs": [
    {
     "data": {
      "text/plain": [
       "[<a class=\"item-brand\" href=\"https://www.newegg.com/GIGABYTE/BrandStore/ID-1314\">\n",
       " <img alt=\"GIGABYTE\" src=\"//c1.neweggimages.com/Brandimage_70x28//Brand1314.gif\" title=\"GIGABYTE\"/>\n",
       " </a>]"
      ]
     },
     "execution_count": 10,
     "metadata": {},
     "output_type": "execute_result"
    }
   ],
   "source": [
    "contain.find_all('a', class_='item-brand')"
   ]
  },
  {
   "cell_type": "code",
   "execution_count": 13,
   "metadata": {},
   "outputs": [
    {
     "data": {
      "text/plain": [
       "'GIGABYTE'"
      ]
     },
     "execution_count": 13,
     "metadata": {},
     "output_type": "execute_result"
    }
   ],
   "source": [
    "# key lesson: targeting within a tag, then treat it like a dictionary\n",
    "#contain.contents[5].a.img[\"title\"]\n",
    "\n",
    "# tried this below to extract the title, may not work.\n",
    "# contain.contents[5].find_all('img').contents # this doesn't work because you can't\n",
    "# treat a string as a list\n",
    "contain.find_all('a', class_='item-brand')[0].img['title']\n"
   ]
  },
  {
   "cell_type": "code",
   "execution_count": null,
   "metadata": {},
   "outputs": [],
   "source": [
    "# Key lesson: is using contents twice, and counting indexes to target the item you want\n",
    "# to scrape\n",
    "contain.contents[5].contents[7]"
   ]
  },
  {
   "cell_type": "code",
   "execution_count": null,
   "metadata": {},
   "outputs": [],
   "source": [
    "# practice\n",
    "contain.contents[5].contents[7]['class']"
   ]
  },
  {
   "cell_type": "code",
   "execution_count": null,
   "metadata": {},
   "outputs": [],
   "source": [
    "# practice\n",
    "contain.contents[5].contents[7]['href']"
   ]
  },
  {
   "cell_type": "code",
   "execution_count": null,
   "metadata": {},
   "outputs": [],
   "source": [
    "contain.find_all('a', class_=\"item-title\")"
   ]
  },
  {
   "cell_type": "code",
   "execution_count": 14,
   "metadata": {},
   "outputs": [
    {
     "data": {
      "text/plain": [
       "'GIGABYTE AERO 15 OLED XB-8US51B0SP, 15.6\" 4K/UHD Gaming Laptop, Intel Core i7-10875H, RTX 2070 Super Max-Q, 16 GB Memory, 512 GB SSD'"
      ]
     },
     "execution_count": 14,
     "metadata": {},
     "output_type": "execute_result"
    }
   ],
   "source": [
    "# Target the text and store this one\n",
    "#contain.contents[5].contents[7].text\n",
    "\n",
    "contain.find_all('a', class_=\"item-title\")[0].text"
   ]
  },
  {
   "cell_type": "code",
   "execution_count": null,
   "metadata": {},
   "outputs": [],
   "source": [
    "contain.contents[5].contents[17].contents[3].contents[5].contents"
   ]
  },
  {
   "cell_type": "code",
   "execution_count": 15,
   "metadata": {},
   "outputs": [
    {
     "data": {
      "text/plain": [
       "'$2,699.00'"
      ]
     },
     "execution_count": 15,
     "metadata": {},
     "output_type": "execute_result"
    }
   ],
   "source": [
    "# Extract Dollars\n",
    "#contain.contents[5].contents[17].contents[3].contents[5].contents[3].text\n",
    "#dollars = contain.contents[5].contents[17].contents[3].contents[5].contents[3].text\n",
    "contain.find_all('li', class_=\"price-current\")[0].text.split()[0]\n",
    "\n",
    "# for x in li:\n",
    "#     print(x.text)"
   ]
  },
  {
   "cell_type": "code",
   "execution_count": null,
   "metadata": {},
   "outputs": [],
   "source": [
    "# Extract Cents\n",
    "# contain.contents[5].contents[17].contents[3].contents[5].contents[4].text\n",
    "\n",
    "# ignore this because cap\n",
    "#cents = contain.contents[5].contents[17].contents[3].contents[5].contents[4].text"
   ]
  },
  {
   "cell_type": "code",
   "execution_count": 16,
   "metadata": {},
   "outputs": [
    {
     "data": {
      "text/plain": [
       "'Free Shipping'"
      ]
     },
     "execution_count": 16,
     "metadata": {},
     "output_type": "execute_result"
    }
   ],
   "source": [
    "# Extract Shipping - do strip() to eliminate white spaces\n",
    "#contain.contents[5].contents[17].contents[3].contents[11].text.strip()\n",
    "#shipping = contain.contents[5].contents[17].contents[3].contents[11].text.strip()\n",
    "\n",
    "# Shipping\n",
    "contain.find_all('li', class_='price-ship')[0].text.strip()"
   ]
  },
  {
   "cell_type": "code",
   "execution_count": 18,
   "metadata": {},
   "outputs": [
    {
     "data": {
      "text/plain": [
       "[<a class=\"item-brand\" href=\"https://www.newegg.com/GIGABYTE/BrandStore/ID-1314\">\n",
       " <img alt=\"GIGABYTE\" src=\"//c1.neweggimages.com/Brandimage_70x28//Brand1314.gif\" title=\"GIGABYTE\"/>\n",
       " </a>]"
      ]
     },
     "execution_count": 18,
     "metadata": {},
     "output_type": "execute_result"
    }
   ],
   "source": [
    "# use tools in BS4 to create a loop; figure out how, do a few SQL problems\n",
    "# figure out how to scrape images into Mongo DB\n",
    "contain.find_all('a', class_=\"item-brand\")#[0].img[\"title\"]"
   ]
  },
  {
   "cell_type": "code",
   "execution_count": 21,
   "metadata": {},
   "outputs": [],
   "source": [
    "# Build the loop to extract: brand, Title of the product, price-dollar, price-cents,\n",
    "# shipping\n",
    "\n",
    "#apple_sales_dict = {}\n",
    "#counter = 0\n",
    "laptop_brands = []\n",
    "laptop_models = []\n",
    "laptop_prices = []\n",
    "laptop_shipping = []\n",
    "\n",
    "for con in containers:\n",
    "    brand_name = con.find_all('a', class_=\"item-brand\")[0].img[\"title\"]\n",
    "    laptop_brands.append(brand_name)\n",
    "    #print(brand_name)\n",
    "    \n",
    "    prd_title = con.find_all('a', class_=\"item-title\")[0].text\n",
    "    laptop_models.append(prd_title)\n",
    "    \n",
    "    price = con.find_all('li', class_=\"price-current\")[0].text.split()[0]\n",
    "    laptop_prices.append(price)\n",
    "    \n",
    "    shipping = contain.find_all('li', class_='price-ship')[0].text.strip()\n",
    "    laptop_shipping.append(shipping)\n",
    "    \n",
    "    \n"
   ]
  },
  {
   "cell_type": "code",
   "execution_count": 22,
   "metadata": {},
   "outputs": [],
   "source": [
    "df = pd.DataFrame({\n",
    "    'brand': laptop_brands,\n",
    "    'model_listing': laptop_models,\n",
    "    'price': laptop_prices,\n",
    "    'shipping': laptop_shipping\n",
    "    })\n",
    "\n",
    "    #df.to_csv(f'')\n",
    "counter = 0"
   ]
  },
  {
   "cell_type": "code",
   "execution_count": 23,
   "metadata": {},
   "outputs": [
    {
     "data": {
      "text/html": [
       "<div>\n",
       "<style scoped>\n",
       "    .dataframe tbody tr th:only-of-type {\n",
       "        vertical-align: middle;\n",
       "    }\n",
       "\n",
       "    .dataframe tbody tr th {\n",
       "        vertical-align: top;\n",
       "    }\n",
       "\n",
       "    .dataframe thead th {\n",
       "        text-align: right;\n",
       "    }\n",
       "</style>\n",
       "<table border=\"1\" class=\"dataframe\">\n",
       "  <thead>\n",
       "    <tr style=\"text-align: right;\">\n",
       "      <th></th>\n",
       "      <th>brand</th>\n",
       "      <th>model_listing</th>\n",
       "      <th>price</th>\n",
       "      <th>shipping</th>\n",
       "    </tr>\n",
       "  </thead>\n",
       "  <tbody>\n",
       "    <tr>\n",
       "      <th>0</th>\n",
       "      <td>GIGABYTE</td>\n",
       "      <td>GIGABYTE AERO 15 OLED XB-8US51B0SP, 15.6\" 4K/U...</td>\n",
       "      <td>$2,699.00</td>\n",
       "      <td>Free Shipping</td>\n",
       "    </tr>\n",
       "    <tr>\n",
       "      <th>1</th>\n",
       "      <td>AORUS</td>\n",
       "      <td>Aorus 15G XB-8US2130MP, 15.6\" Gaming Laptop, I...</td>\n",
       "      <td>$2,299.00</td>\n",
       "      <td>Free Shipping</td>\n",
       "    </tr>\n",
       "    <tr>\n",
       "      <th>2</th>\n",
       "      <td>GIGABYTE</td>\n",
       "      <td>GIGABYTE AERO 15 WB-7US1130SH 15.6\" 144 Hz IPS...</td>\n",
       "      <td>$1,899.00</td>\n",
       "      <td>Free Shipping</td>\n",
       "    </tr>\n",
       "    <tr>\n",
       "      <th>3</th>\n",
       "      <td>GIGABYTE</td>\n",
       "      <td>GIGABYTE AERO 17 HDR YB-9US4750SP, 17.3\" Gamin...</td>\n",
       "      <td>$4,399.00</td>\n",
       "      <td>Free Shipping</td>\n",
       "    </tr>\n",
       "    <tr>\n",
       "      <th>4</th>\n",
       "      <td>GIGABYTE</td>\n",
       "      <td>GIGABYTE AERO 15 OLED XB-9US5450SP 15.6\" 4K/UH...</td>\n",
       "      <td>$3,199.00</td>\n",
       "      <td>Free Shipping</td>\n",
       "    </tr>\n",
       "    <tr>\n",
       "      <th>5</th>\n",
       "      <td>GIGABYTE</td>\n",
       "      <td>GIGABYTE AERO 17 HDR YB-9US4430SP, 17.3\" 4K/UH...</td>\n",
       "      <td>$3,699.00</td>\n",
       "      <td>Free Shipping</td>\n",
       "    </tr>\n",
       "    <tr>\n",
       "      <th>6</th>\n",
       "      <td>GIGABYTE</td>\n",
       "      <td>GIGABYTE AERO 17 WB-7US1130SH, 17.3\" Gaming La...</td>\n",
       "      <td>$1,999.00</td>\n",
       "      <td>Free Shipping</td>\n",
       "    </tr>\n",
       "    <tr>\n",
       "      <th>7</th>\n",
       "      <td>GIGABYTE</td>\n",
       "      <td>GIGABYTE AERO 17 HDR XB-8US4130SP, 17.3\" 4K/UH...</td>\n",
       "      <td>$2,899.00</td>\n",
       "      <td>Free Shipping</td>\n",
       "    </tr>\n",
       "    <tr>\n",
       "      <th>8</th>\n",
       "      <td>GIGABYTE</td>\n",
       "      <td>GIGABYTE AERO 17 HDR XB-9US4450SP 17.3\" 4K/UHD...</td>\n",
       "      <td>$3,399.00</td>\n",
       "      <td>Free Shipping</td>\n",
       "    </tr>\n",
       "    <tr>\n",
       "      <th>9</th>\n",
       "      <td>GIGABYTE</td>\n",
       "      <td>GIGABYTE AERO 15 OLED YB-9US5430SP, 15.6\" 4K G...</td>\n",
       "      <td>$3,499.00</td>\n",
       "      <td>Free Shipping</td>\n",
       "    </tr>\n",
       "    <tr>\n",
       "      <th>10</th>\n",
       "      <td>MSI</td>\n",
       "      <td>MSI Laptop Creator 17 A10SF-257 Intel Core i7 ...</td>\n",
       "      <td>$1,999.00</td>\n",
       "      <td>Free Shipping</td>\n",
       "    </tr>\n",
       "    <tr>\n",
       "      <th>11</th>\n",
       "      <td>GIGABYTE</td>\n",
       "      <td>GIGABYTE AERO 15 YB-7US1430SH, 15.6\" Gaming La...</td>\n",
       "      <td>$2,499.00</td>\n",
       "      <td>Free Shipping</td>\n",
       "    </tr>\n",
       "    <tr>\n",
       "      <th>12</th>\n",
       "      <td>MSI</td>\n",
       "      <td>MSI Laptop Creator 17 A10SFS-254 Intel Core i7...</td>\n",
       "      <td>$2,999.00</td>\n",
       "      <td>Free Shipping</td>\n",
       "    </tr>\n",
       "    <tr>\n",
       "      <th>13</th>\n",
       "      <td>MSI</td>\n",
       "      <td>MSI Laptop Creator 17 A10SGS-252 Intel Core i7...</td>\n",
       "      <td>$3,599.00</td>\n",
       "      <td>Free Shipping</td>\n",
       "    </tr>\n",
       "    <tr>\n",
       "      <th>14</th>\n",
       "      <td>GIGABYTE</td>\n",
       "      <td>GIGABYTE AERO 17 XB-7US1130SH, 17.3\" Gaming La...</td>\n",
       "      <td>$2,199.00</td>\n",
       "      <td>Free Shipping</td>\n",
       "    </tr>\n",
       "    <tr>\n",
       "      <th>15</th>\n",
       "      <td>GIGABYTE</td>\n",
       "      <td>GIGABYTE AERO 17 HDR YB-8US4450SP, 17.3\" 4K/UH...</td>\n",
       "      <td>$3,699.00</td>\n",
       "      <td>Free Shipping</td>\n",
       "    </tr>\n",
       "    <tr>\n",
       "      <th>16</th>\n",
       "      <td>MSI</td>\n",
       "      <td>MSI Laptop Creator 17M A10SE-216 Intel Core i7...</td>\n",
       "      <td>$1,499.00</td>\n",
       "      <td>Free Shipping</td>\n",
       "    </tr>\n",
       "    <tr>\n",
       "      <th>17</th>\n",
       "      <td>MSI</td>\n",
       "      <td>MSI Laptop Creator 17 A10SE-256 Intel Core i7 ...</td>\n",
       "      <td>$1,799.00</td>\n",
       "      <td>Free Shipping</td>\n",
       "    </tr>\n",
       "    <tr>\n",
       "      <th>18</th>\n",
       "      <td>GIGABYTE</td>\n",
       "      <td>GIGABYTE AERO 17 YB-7US1430SH, 17.3\" Gaming La...</td>\n",
       "      <td>$2,599.00</td>\n",
       "      <td>Free Shipping</td>\n",
       "    </tr>\n",
       "    <tr>\n",
       "      <th>19</th>\n",
       "      <td>GIGABYTE</td>\n",
       "      <td>GIGABYTE AERO 15 SB-7US1130SH 15.6\" 144 Hz IPS...</td>\n",
       "      <td>$1,599.00</td>\n",
       "      <td>Free Shipping</td>\n",
       "    </tr>\n",
       "    <tr>\n",
       "      <th>20</th>\n",
       "      <td>GIGABYTE</td>\n",
       "      <td>GIGABYTE AERO 15 OLED YB-9US5750SP, 15.6\" 4K/U...</td>\n",
       "      <td>$4,199.00</td>\n",
       "      <td>Free Shipping</td>\n",
       "    </tr>\n",
       "    <tr>\n",
       "      <th>21</th>\n",
       "      <td>GIGABYTE</td>\n",
       "      <td>GIGABYTE AERO 15 XB-7US1130SH, 15.6\" Gaming La...</td>\n",
       "      <td>$2,099.00</td>\n",
       "      <td>Free Shipping</td>\n",
       "    </tr>\n",
       "    <tr>\n",
       "      <th>22</th>\n",
       "      <td>MSI</td>\n",
       "      <td>MSI Laptop Creator 15M A10SE-421 Intel Core i7...</td>\n",
       "      <td>$1,499.00</td>\n",
       "      <td>Free Shipping</td>\n",
       "    </tr>\n",
       "    <tr>\n",
       "      <th>23</th>\n",
       "      <td>ASUS</td>\n",
       "      <td>ASUSPRO P5440 Thin &amp; Light Business Laptop, 14...</td>\n",
       "      <td>$899.00</td>\n",
       "      <td>Free Shipping</td>\n",
       "    </tr>\n",
       "    <tr>\n",
       "      <th>24</th>\n",
       "      <td>Acer America</td>\n",
       "      <td>Acer TravelMate P6 P648-G3-M TMP648-G3-M-70B0 ...</td>\n",
       "      <td>$1,459.42</td>\n",
       "      <td>Free Shipping</td>\n",
       "    </tr>\n",
       "    <tr>\n",
       "      <th>25</th>\n",
       "      <td>Lenovo</td>\n",
       "      <td>Lenovo ThinkPad P1 Gen 2 20QT000WUS 15.6\" Mobi...</td>\n",
       "      <td>$2,867.69</td>\n",
       "      <td>Free Shipping</td>\n",
       "    </tr>\n",
       "    <tr>\n",
       "      <th>26</th>\n",
       "      <td>DELL</td>\n",
       "      <td>Dell Latitude 5000 5500 15.6\" Touchscreen Note...</td>\n",
       "      <td>$1,615.99</td>\n",
       "      <td>Free Shipping</td>\n",
       "    </tr>\n",
       "    <tr>\n",
       "      <th>27</th>\n",
       "      <td>Acer America</td>\n",
       "      <td>Acer NX.GP6AA.004 Book 11 C771T-32Gw - Core I3...</td>\n",
       "      <td>$330.25</td>\n",
       "      <td>Free Shipping</td>\n",
       "    </tr>\n",
       "    <tr>\n",
       "      <th>28</th>\n",
       "      <td>Acer America</td>\n",
       "      <td>Acer TravelMate X5 X514-51T TMX514-51T-72KH 14...</td>\n",
       "      <td>$1,339.43</td>\n",
       "      <td>Free Shipping</td>\n",
       "    </tr>\n",
       "    <tr>\n",
       "      <th>29</th>\n",
       "      <td>DELL</td>\n",
       "      <td>Dell Inspiron 3583 Notebook, 15.6\" HD Touch Di...</td>\n",
       "      <td>$819.99</td>\n",
       "      <td>Free Shipping</td>\n",
       "    </tr>\n",
       "    <tr>\n",
       "      <th>30</th>\n",
       "      <td>Lenovo</td>\n",
       "      <td>Lenovo ThinkPad X390 20Q00042US 13.3\" Touchscr...</td>\n",
       "      <td>$1,942.12</td>\n",
       "      <td>Free Shipping</td>\n",
       "    </tr>\n",
       "    <tr>\n",
       "      <th>31</th>\n",
       "      <td>HP</td>\n",
       "      <td>HP 17.3\" HD+ Notebook, Intel Core i7-8550U Pro...</td>\n",
       "      <td>$1,112.00</td>\n",
       "      <td>Free Shipping</td>\n",
       "    </tr>\n",
       "    <tr>\n",
       "      <th>32</th>\n",
       "      <td>HP</td>\n",
       "      <td>HP 17.3\" HD+ Notebook Laptop PC, Intel Quad Co...</td>\n",
       "      <td>$1,030.00</td>\n",
       "      <td>Free Shipping</td>\n",
       "    </tr>\n",
       "    <tr>\n",
       "      <th>33</th>\n",
       "      <td>Acer America</td>\n",
       "      <td>Acer TravelMate P6 P648-G3-M TMP648-G3-M-52C2 ...</td>\n",
       "      <td>$1,220.38</td>\n",
       "      <td>Free Shipping</td>\n",
       "    </tr>\n",
       "    <tr>\n",
       "      <th>34</th>\n",
       "      <td>HP</td>\n",
       "      <td>HP  17.3\" HD+  (1600 x 900) laptop i7-8550U 1....</td>\n",
       "      <td>$999.00</td>\n",
       "      <td>Free Shipping</td>\n",
       "    </tr>\n",
       "    <tr>\n",
       "      <th>35</th>\n",
       "      <td>Lenovo</td>\n",
       "      <td>Lenovo Laptop ThinkPad L470 20JUS09U00 Intel C...</td>\n",
       "      <td>$499.99</td>\n",
       "      <td>Free Shipping</td>\n",
       "    </tr>\n",
       "  </tbody>\n",
       "</table>\n",
       "</div>"
      ],
      "text/plain": [
       "           brand                                      model_listing  \\\n",
       "0       GIGABYTE  GIGABYTE AERO 15 OLED XB-8US51B0SP, 15.6\" 4K/U...   \n",
       "1          AORUS  Aorus 15G XB-8US2130MP, 15.6\" Gaming Laptop, I...   \n",
       "2       GIGABYTE  GIGABYTE AERO 15 WB-7US1130SH 15.6\" 144 Hz IPS...   \n",
       "3       GIGABYTE  GIGABYTE AERO 17 HDR YB-9US4750SP, 17.3\" Gamin...   \n",
       "4       GIGABYTE  GIGABYTE AERO 15 OLED XB-9US5450SP 15.6\" 4K/UH...   \n",
       "5       GIGABYTE  GIGABYTE AERO 17 HDR YB-9US4430SP, 17.3\" 4K/UH...   \n",
       "6       GIGABYTE  GIGABYTE AERO 17 WB-7US1130SH, 17.3\" Gaming La...   \n",
       "7       GIGABYTE  GIGABYTE AERO 17 HDR XB-8US4130SP, 17.3\" 4K/UH...   \n",
       "8       GIGABYTE  GIGABYTE AERO 17 HDR XB-9US4450SP 17.3\" 4K/UHD...   \n",
       "9       GIGABYTE  GIGABYTE AERO 15 OLED YB-9US5430SP, 15.6\" 4K G...   \n",
       "10           MSI  MSI Laptop Creator 17 A10SF-257 Intel Core i7 ...   \n",
       "11      GIGABYTE  GIGABYTE AERO 15 YB-7US1430SH, 15.6\" Gaming La...   \n",
       "12           MSI  MSI Laptop Creator 17 A10SFS-254 Intel Core i7...   \n",
       "13           MSI  MSI Laptop Creator 17 A10SGS-252 Intel Core i7...   \n",
       "14      GIGABYTE  GIGABYTE AERO 17 XB-7US1130SH, 17.3\" Gaming La...   \n",
       "15      GIGABYTE  GIGABYTE AERO 17 HDR YB-8US4450SP, 17.3\" 4K/UH...   \n",
       "16           MSI  MSI Laptop Creator 17M A10SE-216 Intel Core i7...   \n",
       "17           MSI  MSI Laptop Creator 17 A10SE-256 Intel Core i7 ...   \n",
       "18      GIGABYTE  GIGABYTE AERO 17 YB-7US1430SH, 17.3\" Gaming La...   \n",
       "19      GIGABYTE  GIGABYTE AERO 15 SB-7US1130SH 15.6\" 144 Hz IPS...   \n",
       "20      GIGABYTE  GIGABYTE AERO 15 OLED YB-9US5750SP, 15.6\" 4K/U...   \n",
       "21      GIGABYTE  GIGABYTE AERO 15 XB-7US1130SH, 15.6\" Gaming La...   \n",
       "22           MSI  MSI Laptop Creator 15M A10SE-421 Intel Core i7...   \n",
       "23          ASUS  ASUSPRO P5440 Thin & Light Business Laptop, 14...   \n",
       "24  Acer America  Acer TravelMate P6 P648-G3-M TMP648-G3-M-70B0 ...   \n",
       "25        Lenovo  Lenovo ThinkPad P1 Gen 2 20QT000WUS 15.6\" Mobi...   \n",
       "26          DELL  Dell Latitude 5000 5500 15.6\" Touchscreen Note...   \n",
       "27  Acer America  Acer NX.GP6AA.004 Book 11 C771T-32Gw - Core I3...   \n",
       "28  Acer America  Acer TravelMate X5 X514-51T TMX514-51T-72KH 14...   \n",
       "29          DELL  Dell Inspiron 3583 Notebook, 15.6\" HD Touch Di...   \n",
       "30        Lenovo  Lenovo ThinkPad X390 20Q00042US 13.3\" Touchscr...   \n",
       "31            HP  HP 17.3\" HD+ Notebook, Intel Core i7-8550U Pro...   \n",
       "32            HP  HP 17.3\" HD+ Notebook Laptop PC, Intel Quad Co...   \n",
       "33  Acer America  Acer TravelMate P6 P648-G3-M TMP648-G3-M-52C2 ...   \n",
       "34            HP  HP  17.3\" HD+  (1600 x 900) laptop i7-8550U 1....   \n",
       "35        Lenovo  Lenovo Laptop ThinkPad L470 20JUS09U00 Intel C...   \n",
       "\n",
       "        price       shipping  \n",
       "0   $2,699.00  Free Shipping  \n",
       "1   $2,299.00  Free Shipping  \n",
       "2   $1,899.00  Free Shipping  \n",
       "3   $4,399.00  Free Shipping  \n",
       "4   $3,199.00  Free Shipping  \n",
       "5   $3,699.00  Free Shipping  \n",
       "6   $1,999.00  Free Shipping  \n",
       "7   $2,899.00  Free Shipping  \n",
       "8   $3,399.00  Free Shipping  \n",
       "9   $3,499.00  Free Shipping  \n",
       "10  $1,999.00  Free Shipping  \n",
       "11  $2,499.00  Free Shipping  \n",
       "12  $2,999.00  Free Shipping  \n",
       "13  $3,599.00  Free Shipping  \n",
       "14  $2,199.00  Free Shipping  \n",
       "15  $3,699.00  Free Shipping  \n",
       "16  $1,499.00  Free Shipping  \n",
       "17  $1,799.00  Free Shipping  \n",
       "18  $2,599.00  Free Shipping  \n",
       "19  $1,599.00  Free Shipping  \n",
       "20  $4,199.00  Free Shipping  \n",
       "21  $2,099.00  Free Shipping  \n",
       "22  $1,499.00  Free Shipping  \n",
       "23    $899.00  Free Shipping  \n",
       "24  $1,459.42  Free Shipping  \n",
       "25  $2,867.69  Free Shipping  \n",
       "26  $1,615.99  Free Shipping  \n",
       "27    $330.25  Free Shipping  \n",
       "28  $1,339.43  Free Shipping  \n",
       "29    $819.99  Free Shipping  \n",
       "30  $1,942.12  Free Shipping  \n",
       "31  $1,112.00  Free Shipping  \n",
       "32  $1,030.00  Free Shipping  \n",
       "33  $1,220.38  Free Shipping  \n",
       "34    $999.00  Free Shipping  \n",
       "35    $499.99  Free Shipping  "
      ]
     },
     "execution_count": 23,
     "metadata": {},
     "output_type": "execute_result"
    }
   ],
   "source": [
    "df"
   ]
  },
  {
   "cell_type": "code",
   "execution_count": null,
   "metadata": {},
   "outputs": [],
   "source": [
    "contain.contents[5].a.img[\"title\"]"
   ]
  },
  {
   "cell_type": "code",
   "execution_count": null,
   "metadata": {},
   "outputs": [],
   "source": [
    "print(len(containers))"
   ]
  },
  {
   "cell_type": "code",
   "execution_count": null,
   "metadata": {},
   "outputs": [],
   "source": [
    "print(len(laptop_model))\n",
    "print(len(laptop_brands))"
   ]
  },
  {
   "cell_type": "code",
   "execution_count": null,
   "metadata": {},
   "outputs": [],
   "source": [
    "# laptops = {'brand_name': [], 'prd_title': []}\n",
    "\n",
    "# for con in containers:\n",
    "#     # Extract Brand\n",
    "#     brand_name = con.contents[5].a.img[\"title\"]\n",
    "#     laptops['brand_name'] = brand_name\n",
    "    \n",
    "#     prd_title = con.find_all('a', class_=\"item-title\")[0].text\n",
    "#     laptops['prd_title'] = prd_title"
   ]
  },
  {
   "cell_type": "code",
   "execution_count": null,
   "metadata": {},
   "outputs": [],
   "source": [
    "# for k,v in laptops.items():\n",
    "#     print(k + ' | ' + v)"
   ]
  },
  {
   "cell_type": "code",
   "execution_count": null,
   "metadata": {},
   "outputs": [],
   "source": []
  }
 ],
 "metadata": {
  "kernelspec": {
   "display_name": "Python 3",
   "language": "python",
   "name": "python3"
  },
  "language_info": {
   "codemirror_mode": {
    "name": "ipython",
    "version": 3
   },
   "file_extension": ".py",
   "mimetype": "text/x-python",
   "name": "python",
   "nbconvert_exporter": "python",
   "pygments_lexer": "ipython3",
   "version": "3.7.1"
  }
 },
 "nbformat": 4,
 "nbformat_minor": 2
}
